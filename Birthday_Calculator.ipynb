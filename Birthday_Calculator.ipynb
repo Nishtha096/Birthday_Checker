{
  "nbformat": 4,
  "nbformat_minor": 0,
  "metadata": {
    "colab": {
      "name": "Birthday_Calculator.ipynb",
      "provenance": []
    },
    "kernelspec": {
      "name": "python3",
      "display_name": "Python 3"
    },
    "language_info": {
      "name": "python"
    },
    "accelerator": "GPU"
  },
  "cells": [
    {
      "cell_type": "code",
      "metadata": {
        "id": "BJfnfWcjnLKJ"
      },
      "source": [
        "import datetime\n",
        "#pip install emoji\n",
        "#import emoji"
      ],
      "execution_count": 26,
      "outputs": []
    },
    {
      "cell_type": "markdown",
      "metadata": {
        "id": "8EhZnu19wLpO"
      },
      "source": [
        "*import a module named datetime to work with dates as date objects.*"
      ]
    },
    {
      "cell_type": "code",
      "metadata": {
        "id": "k2NtRvF3r-lX"
      },
      "source": [
        "current_date=datetime.date.today().strftime(\"%Y-%m-%d\")\n",
        "current_date_extract=current_date.split(\"-\")"
      ],
      "execution_count": 27,
      "outputs": []
    },
    {
      "cell_type": "markdown",
      "metadata": {
        "id": "hUtefEifw47K"
      },
      "source": [
        "*we use the date.today() method to get the current local date.*\n",
        "\n",
        "*We can use the strftime() method to create a string representing date in different formats.*\n",
        "\n",
        "*Split the date as list separated by \"-\" using **split()** method.*"
      ]
    },
    {
      "cell_type": "code",
      "metadata": {
        "id": "LfI5aSvfINBD"
      },
      "source": [
        "bday_input=input(\"Enter you birthday in \\\"YYYY-mm-dd\\\" format:\")\n",
        "legend=input(\"Name of the birthday boy/girl \")\n",
        "bday_date=bday_input.split(\"-\")"
      ],
      "execution_count": null,
      "outputs": []
    },
    {
      "cell_type": "markdown",
      "metadata": {
        "id": "VDly9oWyabZH"
      },
      "source": [
        "*Enter you birthday date in the **\"Year-month-day\"** format*\n",
        "\n",
        "*Input the name of the person whose b'day you want to check*\n",
        "\n",
        "*Extract the bday date in terms of date,month & year using **split**()*"
      ]
    },
    {
      "cell_type": "code",
      "metadata": {
        "id": "aR8wvfwKaaot"
      },
      "source": [
        "if current_date_extract[1]==bday_date[1] and current_date_extract[2]==bday_date[2]:\n",
        "  age=int(current_date_extract[0])-int(bday_date[0])\n",
        "  print(\"Happy Birthday \\U0001F389 dear\",legend,\"You have turned\",age,\"years old today\")\n",
        "  print(\"\\U0001F929\")\n",
        "else:\n",
        "  print(\"OOPS!! it's not your bday today dear\")"
      ],
      "execution_count": null,
      "outputs": []
    },
    {
      "cell_type": "markdown",
      "metadata": {
        "id": "7iQ2BkSbpI5K"
      },
      "source": [
        "*1)First check if their b'day month and date matches the current month and date*\n",
        "\n",
        "*2)If yes, then calculate the age using current year and year you were born in else print a sorry message saying it's not their b'day*\n",
        "\n",
        "*3)Finally print a b'day message with emojis and mentioning the name and age of the person*\n",
        "\n",
        "*4)You can either use the  **emoji module** in python* "
      ]
    }
  ]
}